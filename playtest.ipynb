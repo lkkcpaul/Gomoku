{
  "nbformat": 4,
  "nbformat_minor": 0,
  "metadata": {
    "kernelspec": {
      "display_name": "Python 3",
      "language": "python",
      "name": "python3"
    },
    "language_info": {
      "codemirror_mode": {
        "name": "ipython",
        "version": 3
      },
      "file_extension": ".py",
      "mimetype": "text/x-python",
      "name": "python",
      "nbconvert_exporter": "python",
      "pygments_lexer": "ipython3",
      "version": "3.8.5"
    },
    "colab": {
      "name": "playtest.ipynb",
      "provenance": [],
      "include_colab_link": true
    }
  },
  "cells": [
    {
      "cell_type": "markdown",
      "metadata": {
        "id": "view-in-github",
        "colab_type": "text"
      },
      "source": [
        "<a href=\"https://colab.research.google.com/github/lkkcpaul/Gomoku/blob/main/playtest.ipynb\" target=\"_parent\"><img src=\"https://colab.research.google.com/assets/colab-badge.svg\" alt=\"Open In Colab\"/></a>"
      ]
    },
    {
      "cell_type": "code",
      "metadata": {
        "colab": {
          "base_uri": "https://localhost:8080/"
        },
        "id": "i9yAvxW54kPA",
        "outputId": "4208bdad-67c0-4dab-a285-4f9ea9fc6aa5"
      },
      "source": [
        "import numpy as np\n",
        "from scipy.special import softmax\n",
        "import gomoku, player_basic\n",
        "\n",
        "# for auto-reloading external modules\n",
        "%load_ext autoreload\n",
        "%autoreload 2"
      ],
      "execution_count": 2,
      "outputs": [
        {
          "output_type": "stream",
          "text": [
            "The autoreload extension is already loaded. To reload it, use:\n",
            "  %reload_ext autoreload\n"
          ],
          "name": "stdout"
        }
      ]
    },
    {
      "cell_type": "markdown",
      "metadata": {
        "id": "lDE4G3fm4kPN"
      },
      "source": [
        "# Playtest"
      ]
    },
    {
      "cell_type": "code",
      "metadata": {
        "id": "_hxIbxgX4kPO"
      },
      "source": [
        "game = gomoku.Gomoku(15)\n",
        "opponent = player_basic.FeaturePlayer('cp', -1) # human goes first, cp goes second"
      ],
      "execution_count": 3,
      "outputs": []
    },
    {
      "cell_type": "code",
      "metadata": {
        "colab": {
          "base_uri": "https://localhost:8080/"
        },
        "id": "c43ifzOx4kPQ",
        "outputId": "5487ab02-f7b2-4782-e7e1-26ad7bb8d0ad"
      },
      "source": [
        "game.play(2,2) # human move\n",
        "if not game.finished:\n",
        "    game.play(*opponent.play(game)) # cp plays random move\n",
        "else:\n",
        "    print(\"game has ended\")\n",
        "game.show()"
      ],
      "execution_count": 17,
      "outputs": [
        {
          "output_type": "stream",
          "text": [
            "game has ended\n",
            "   0 1 2 3 4 5 6 7 8 91011121314\n",
            " 0 . . . . . . . . . . . . . . . \n",
            " 1 . . . . . ● . . . . . . . . . \n",
            " 2 ○ . ● . ○ ○ ○ . . . . . . . . \n",
            " 3 . ● ● ● ○ ● . . . . . . . . . \n",
            " 4 . . ● ○ ● ● . . . . . . . . . \n",
            " 5 . . ● ● ○ . . . . . . . . . . \n",
            " 6 . . ● ○ ● . . . . . . . . . . \n",
            " 7 . ○ ○ ○ ● ○ . . . . . . . . . \n",
            " 8 . . . . ○ . . . . . . . . . . \n",
            " 9 . . . . . . . . . . . . . . . \n",
            "10 . . . . . . . . . . . . . . . \n",
            "11 . . . . . . . . . . . . . . . \n",
            "12 . . . . . . . . . . . . . . . \n",
            "13 . . . . . . . . . . . . . . . \n",
            "14 . . . . . . . . . . . . . . . \n"
          ],
          "name": "stdout"
        }
      ]
    },
    {
      "cell_type": "markdown",
      "metadata": {
        "id": "4zIkmPca4kPS"
      },
      "source": [
        "# Testing: PGFeaturePlayer"
      ]
    },
    {
      "cell_type": "code",
      "metadata": {
        "id": "SOgnx3QT-4rm"
      },
      "source": [
        "#Train against random player\n",
        "p1 = player_basic.PGFeaturePlayer('player1', 1, epsilon=0.2, w_lr=0.01, theta_lr=0.01, discount=.8)\n",
        "p2 = player_basic.RandomPlayer('rand_player',-1)\n",
        "#p1.theta = np.array([1, 4, 9, 16, 1, 4, 9, 16, 0], dtype=float)\n",
        "#p2.theta = p1.theta"
      ],
      "execution_count": 118,
      "outputs": []
    },
    {
      "cell_type": "code",
      "metadata": {
        "colab": {
          "base_uri": "https://localhost:8080/"
        },
        "id": "t9hdUOLm_JwZ",
        "outputId": "7a4f50bf-1de4-45bd-b3ac-feeeceeb7880"
      },
      "source": [
        "for i in range(1000):\n",
        "    if i%100 == 0:\n",
        "        print(i, end=', ')\n",
        "    game = gomoku.Gomoku(9)\n",
        "    players = [p1, p2]\n",
        "    turn = 0\n",
        "    while not game.finished:\n",
        "        game.play(*players[turn].play(game))\n",
        "        turn = (turn+1)%2\n",
        "    \n",
        "    if game.winner == 1:\n",
        "        p1_grads = p1.get_grad(game, game._moves_left)\n",
        "    elif game.winner == -1:\n",
        "        p1_grads = p1.get_grad(game, -game._moves_left)\n",
        "    else:\n",
        "        p1_grads = p1.get_grad(game, 0)\n",
        "    if i%100 == 0:\n",
        "        print(p1_grads)    \n",
        "    p1.step(*p1_grads)\n",
        "        "
      ],
      "execution_count": 119,
      "outputs": [
        {
          "output_type": "stream",
          "text": [
            "0, (array([-12.806836  ,  -2.45      ,   0.        ,   0.        ,\n",
            "        -3.9148534 ,  -3.70316943,   0.        ,   0.        ,\n",
            "       -14.88149144]), array([0., 0., 0., 0., 0., 0., 0., 0., 0.]))\n",
            "100, (array([-2.88549986, -1.98759789, -0.12787601,  0.        , -3.88833589,\n",
            "       -1.48582925, -0.48400375, -0.70592717, -2.67469625]), array([0.67133927, 0.44649022, 0.33891962, 0.29385298, 1.10572254,\n",
            "       0.5275584 , 0.33080421, 0.38087839, 0.64418543]))\n",
            "200, (array([4.01319983, 1.6421634 , 0.        , 0.6953784 , 5.01799396,\n",
            "       2.26365876, 0.        , 0.        , 4.05578747]), array([-0.81514706, -0.16241913, -0.17135988, -0.13991703, -0.2235095 ,\n",
            "       -0.22818868, -0.17452807, -0.17655494, -0.35651388]))\n",
            "300, (array([-5.09644368, -3.01493161, -1.18124383,  0.        , -7.4601555 ,\n",
            "       -0.2641727 , -0.22844445,  0.        , -4.785772  ]), array([0.09271699, 0.09790065, 0.13648414, 0.0901546 , 0.15587621,\n",
            "       0.08994967, 0.11171161, 0.08956444, 0.1803092 ]))\n",
            "400, (array([0.7479075 , 1.35152973, 0.50657391, 0.59943799, 0.82733498,\n",
            "       0.58290985, 0.299719  , 0.51010293, 0.8870227 ]), array([1.22080903, 1.21966865, 0.7203866 , 0.98631284, 2.46647614,\n",
            "       0.98734237, 0.79769102, 0.70438528, 1.31220666]))\n",
            "500, (array([-2.15973855, -0.7747452 , -0.53721734,  0.        , -4.66564059,\n",
            "       -0.67438382,  0.        , -0.12583762, -2.42278562]), array([2.17609752, 1.7857444 , 1.51683128, 0.91313344, 4.41596474,\n",
            "       1.41750917, 1.12367332, 1.24968464, 2.24769404]))\n",
            "600, (array([ 3.84662441,  1.8973536 , -0.09925936,  0.77105751,  3.61334286,\n",
            "        0.89659648, -0.02697207,  0.        ,  2.37665945]), array([2.50631561, 1.67881526, 1.31193173, 1.42544073, 5.25389256,\n",
            "       1.36326296, 1.26494731, 1.16610718, 2.33422118]))\n",
            "700, (array([4.34255181, 1.49418403, 1.36945067, 0.81307881, 6.84549084,\n",
            "       1.18655724, 0.        , 0.        , 3.98479173]), array([0.092919  , 0.45830564, 0.44790951, 0.54082207, 1.56143098,\n",
            "       0.43228628, 0.01972887, 0.32647082, 0.65294306]))\n",
            "800, (array([-1.82486353, -0.59693955, -0.24013843,  0.        , -3.35408351,\n",
            "       -0.66927522, -0.13518873,  0.        , -1.72371275]), array([0.39085945, 0.2219373 , 0.20197756, 0.16018123, 0.64166947,\n",
            "       0.18677621, 0.13326756, 0.16018649, 0.32037297]))\n",
            "900, (array([-27.89409852,  -1.88313717,  -3.52340811,   0.        ,\n",
            "       -24.33578681,   0.        ,   0.        ,   0.        ,\n",
            "       -18.14239528]), array([3.50507897, 0.80427966, 0.48303363, 0.41865638, 2.74667079,\n",
            "       0.19768601, 0.41838239, 0.42047317, 0.84094634]))\n"
          ],
          "name": "stdout"
        }
      ]
    },
    {
      "cell_type": "code",
      "metadata": {
        "colab": {
          "base_uri": "https://localhost:8080/"
        },
        "id": "Y_vNIbu3AyA1",
        "outputId": "60555d9c-6e54-47fd-b14b-435ae66caeee"
      },
      "source": [
        "print(p1.w)\n",
        "print(p1.theta)"
      ],
      "execution_count": 120,
      "outputs": [
        {
          "output_type": "stream",
          "text": [
            "[-0.10389605  0.17102074  1.12208951  7.36330914  0.53080834 -0.33300721\n",
            " -0.19570932 -0.10682813  1.95806549]\n",
            "[11.12417721  6.07329122  5.3946375   5.47957136 20.15556172  4.82738472\n",
            "  4.71229543  4.54721331  8.93163274]\n"
          ],
          "name": "stdout"
        }
      ]
    },
    {
      "cell_type": "code",
      "metadata": {
        "id": "JVgvz0aYA70d"
      },
      "source": [
        "    game = gomoku.Gomoku(9)"
      ],
      "execution_count": 121,
      "outputs": []
    },
    {
      "cell_type": "code",
      "metadata": {
        "colab": {
          "base_uri": "https://localhost:8080/"
        },
        "id": "CdAn09cZBC5x",
        "outputId": "45698732-f810-4191-d216-4d1455af14e4"
      },
      "source": [
        "game.play(*p1.play(game))\n",
        "game.play(*p2.play(game))\n",
        "game.show()"
      ],
      "execution_count": 125,
      "outputs": [
        {
          "output_type": "stream",
          "text": [
            "   0 1 2 3 4 5 6 7 8\n",
            " 0 . . . ○ . . . . . \n",
            " 1 . . . . . . ○ ● . \n",
            " 2 . . . ○ . . ● . . \n",
            " 3 . . . . . . . . . \n",
            " 4 . ○ . . . . . . . \n",
            " 5 . . . . . . ● . . \n",
            " 6 . . . . . . . . . \n",
            " 7 . . . . . . . . . \n",
            " 8 . ● . . . . . . . \n"
          ],
          "name": "stdout"
        }
      ]
    },
    {
      "cell_type": "code",
      "metadata": {
        "id": "OSTmTMfT4kPS"
      },
      "source": [
        "p1 = player_basic.PGFeaturePlayer('player1', 0, epsilon=0.2, discount=.5)\n",
        "p2 = player_basic.FeaturePlayer('cp',-1)\n",
        "#p2.w = p1.w\n",
        "p1.theta = np.array([1, 4, 9, 16, 1, 4, 9, 16, 0], dtype=float)\n",
        "#p2.theta = p1.theta"
      ],
      "execution_count": 95,
      "outputs": []
    },
    {
      "cell_type": "code",
      "metadata": {
        "colab": {
          "base_uri": "https://localhost:8080/"
        },
        "id": "TtNo2oNh4kPT",
        "outputId": "1d02ec0c-c149-4156-e304-e247737f9fbe"
      },
      "source": [
        "for i in range(1000):\n",
        "    if i%10 == 0:\n",
        "        print(i, end=', ')\n",
        "    game = gomoku.Gomoku(9)\n",
        "    #p1color = np.random.choice([1, -1])\n",
        "    #p1.piece = p1color\n",
        "    p1.piece = 1\n",
        "    #p2.piece = -p1color\n",
        "\n",
        "    players = [p1, p2]\n",
        "    turn = (1-p1color)//2\n",
        "    while not game.finished:\n",
        "        game.play(*players[turn].play(game))\n",
        "        turn = (turn+1)%2\n",
        "    \n",
        "    if game.winner == p1color:\n",
        "        p1_grads = p1.get_grad(game, game._moves_left)\n",
        "        p2_grads = p2.get_grad(game, 0)\n",
        "    elif game.winner == -p1color:\n",
        "        p1_grads = p1.get_grad(game, 0)\n",
        "        p2_grads = p2.get_grad(game, game._moves_left)\n",
        "    else:\n",
        "        p1_grads = p1.get_grad(game, 0)\n",
        "        p2_grads = p2.get_grad(game, 0)\n",
        "        \n",
        "    p1.step(*p1_grads)\n",
        "    p1.step(*p2_grads)\n",
        "        "
      ],
      "execution_count": 23,
      "outputs": [
        {
          "output_type": "stream",
          "text": [
            "0, 10, 20, 30, 40, 50, 60, 70, 80, 90, 100, 110, 120, 130, 140, 150, 160, 170, 180, 190, 200, 210, 220, 230, 240, 250, 260, 270, 280, 290, 300, 310, 320, 330, 340, 350, 360, 370, 380, 390, 400, 410, 420, 430, 440, 450, 460, 470, 480, 490, 500, 510, 520, 530, 540, 550, 560, 570, 580, 590, 600, 610, 620, 630, 640, 650, 660, 670, 680, 690, 700, 710, 720, 730, 740, 750, 760, 770, 780, 790, 800, 810, 820, 830, 840, 850, 860, 870, 880, 890, 900, 910, 920, 930, 940, 950, 960, 970, 980, 990, "
          ],
          "name": "stdout"
        }
      ]
    },
    {
      "cell_type": "code",
      "metadata": {
        "colab": {
          "base_uri": "https://localhost:8080/"
        },
        "id": "nKaxNo9m4kPU",
        "outputId": "374a2869-49b8-4d52-bd99-c271f198473b"
      },
      "source": [
        "print(p1.w)\n",
        "print(p1.theta)"
      ],
      "execution_count": 24,
      "outputs": [
        {
          "output_type": "stream",
          "text": [
            "[-0.44071582  0.57408265  4.95792967 59.04507414  0.79845849 -0.85027883\n",
            " -0.93484436  1.35433379  0.25558875]\n",
            "[ 315.05927739  389.8059745   388.52052564  689.85896585 2120.74040209\n",
            "  269.45710191  250.92240095  246.18682457  519.72712921]\n"
          ],
          "name": "stdout"
        }
      ]
    },
    {
      "cell_type": "code",
      "metadata": {
        "id": "lPgP8KFe4kPU"
      },
      "source": [
        "game = gomoku.Gomoku(15)\n",
        "p1.piece = +1\n",
        "p2.piece = -1"
      ],
      "execution_count": 25,
      "outputs": []
    },
    {
      "cell_type": "code",
      "metadata": {
        "id": "-y-P3hS14kPV"
      },
      "source": [
        "game.play(7, 7)"
      ],
      "execution_count": 26,
      "outputs": []
    },
    {
      "cell_type": "code",
      "metadata": {
        "colab": {
          "base_uri": "https://localhost:8080/"
        },
        "id": "i7vnQpzL4kPV",
        "outputId": "b8eac998-8c78-45e8-eeed-5ce24b3f6417"
      },
      "source": [
        "game.play(*p1.play(game))\n",
        "game.play(*p2.play(game))\n",
        "game.show()"
      ],
      "execution_count": 36,
      "outputs": [
        {
          "output_type": "stream",
          "text": [
            "   0 1 2 3 4 5 6 7 8 91011121314\n",
            " 0 . . . . . . . . . . . . . . . \n",
            " 1 . . . . . . . . . . . . . . . \n",
            " 2 . . . . . . . . . . . . . . . \n",
            " 3 . . . . . . . . . . . . . . . \n",
            " 4 . . . . . . . . . . . . . . . \n",
            " 5 . . . . . . . ● . . . . . . . \n",
            " 6 . . . . . . ● ● . . . . . . . \n",
            " 7 . . . . ○ ○ ● ● ● . . . . . . \n",
            " 8 . . . ○ ○ ○ ● ● ● . . . . . . \n",
            " 9 . . . ○ ○ ○ ● ● . . . . . . . \n",
            "10 . . . . ○ ○ . . . . . . . . . \n",
            "11 . . . . . . . . . . . . . . . \n",
            "12 . . . . . . . . . . . . . . . \n",
            "13 . . . . . . . . . . . . . . . \n",
            "14 . . . . . . . . . . . . . . . \n"
          ],
          "name": "stdout"
        }
      ]
    },
    {
      "cell_type": "code",
      "metadata": {
        "id": "agPu5aBj4kPV"
      },
      "source": [
        "p1 = player_basic.PGFeaturePlayer('player1', 0)\n",
        "p2 = player_basic.FeaturePlayer('player2', 0)"
      ],
      "execution_count": 37,
      "outputs": []
    },
    {
      "cell_type": "code",
      "metadata": {
        "id": "wFaJrXwj4kPW",
        "outputId": "b3ba86fe-1122-46e5-b8cb-b17103cfc4b1"
      },
      "source": [
        "for i in range(1000):\n",
        "    if i%10 == 0:\n",
        "        print(i, end=', ')\n",
        "    game = gomoku.Gomoku(9)\n",
        "    p1color = np.random.choice([1, -1])\n",
        "    p1.piece = p1color\n",
        "    p2.piece = -p1color\n",
        "\n",
        "    players = [p1, p2]\n",
        "    turn = (1-p1color)//2\n",
        "    while not game.finished:\n",
        "        game.play(*players[turn].play(game))\n",
        "        turn = (turn+1)%2\n",
        "    \n",
        "    if game.winner == p1color:\n",
        "        p1_grads = p1.get_grad(game, 1.)\n",
        "        #p2_grads = p2.get_grad(game, -1.)\n",
        "    elif game.winner == -p1color:\n",
        "        p1_grads = p1.get_grad(game, -1.)\n",
        "        #p2_grads = p2.get_grad(game, 1.)\n",
        "    else:\n",
        "        p1_grads = p1.get_grad(game, 0.)\n",
        "        #p2_grads = p2.get_grad(game, 0.)\n",
        "        \n",
        "    p1.step(*p1_grads)\n",
        "    #p1.step(*p2_grads)\n",
        "        "
      ],
      "execution_count": null,
      "outputs": [
        {
          "output_type": "stream",
          "text": [
            "0, 10, 20, 30, 40, 50, 60, 70, 80, 90, 100, 110, 120, 130, 140, 150, 160, 170, 180, 190, 200, 210, 220, 230, 240, 250, 260, 270, 280, 290, 300, 310, 320, 330, 340, 350, 360, 370, 380, 390, 400, 410, 420, 430, 440, 450, 460, 470, 480, 490, 500, 510, 520, 530, 540, 550, 560, 570, 580, 590, 600, 610, 620, 630, 640, 650, 660, 670, 680, 690, 700, 710, 720, 730, 740, 750, 760, 770, 780, 790, 800, 810, 820, 830, 840, 850, 860, 870, 880, 890, 900, 910, 920, 930, 940, 950, 960, 970, 980, 990, "
          ],
          "name": "stdout"
        }
      ]
    },
    {
      "cell_type": "code",
      "metadata": {
        "id": "gJBGIcs64kPW",
        "outputId": "c86c739a-dcb7-4e33-888f-ffcf7c7c4a95"
      },
      "source": [
        "print(p1.w)\n",
        "print(p1.theta)"
      ],
      "execution_count": null,
      "outputs": [
        {
          "output_type": "stream",
          "text": [
            "[-0.15362757 -0.03364655  0.          0.         -0.0740043  -0.00073599\n",
            " -0.03723498 -0.00846379 -0.62696604]\n",
            "[-0.83542265 -3.15222877 -3.1762802  -3.17800188 -0.48550833 -2.91121014\n",
            " -3.05746383 -3.03022919 -6.35600376]\n"
          ],
          "name": "stdout"
        }
      ]
    },
    {
      "cell_type": "code",
      "metadata": {
        "id": "PWW0PzIY4kPX"
      },
      "source": [
        "game = gomoku.Gomoku(9)\n",
        "p1.piece = +1\n",
        "p2.piece = -1"
      ],
      "execution_count": null,
      "outputs": []
    },
    {
      "cell_type": "code",
      "metadata": {
        "id": "d8LDsDg04kPX",
        "outputId": "679ab693-abae-4d68-f5fb-2f9433b4d6e1"
      },
      "source": [
        "game.play(*p1.play(game))\n",
        "game.play(*p2.play(game))\n",
        "game.show()"
      ],
      "execution_count": null,
      "outputs": [
        {
          "output_type": "stream",
          "text": [
            "[0.01234568 0.01234568 0.01234568 0.01234568 0.01234568 0.01234568\n",
            " 0.01234568 0.01234568 0.01234568 0.01234568 0.01234568 0.01234568\n",
            " 0.01234568 0.01234568 0.01234568 0.01234568 0.01234568 0.01234568\n",
            " 0.01234568 0.01234568 0.01234568 0.01234568 0.01234568 0.01234568\n",
            " 0.01234568 0.01234568 0.01234568 0.01234568 0.01234568 0.01234568\n",
            " 0.01234568 0.01234568 0.01234568 0.01234568 0.01234568 0.01234568\n",
            " 0.01234568 0.01234568 0.01234568 0.01234568 0.01234568 0.01234568\n",
            " 0.01234568 0.01234568 0.01234568 0.01234568 0.01234568 0.01234568\n",
            " 0.01234568 0.01234568 0.01234568 0.01234568 0.01234568 0.01234568\n",
            " 0.01234568 0.01234568 0.01234568 0.01234568 0.01234568 0.01234568\n",
            " 0.01234568 0.01234568 0.01234568 0.01234568 0.01234568 0.01234568\n",
            " 0.01234568 0.01234568 0.01234568 0.01234568 0.01234568 0.01234568\n",
            " 0.01234568 0.01234568 0.01234568 0.01234568 0.01234568 0.01234568\n",
            " 0.01234568 0.01234568 0.01234568]\n",
            "   0 1 2 3 4 5 6 7 8\n",
            " 0 . . . . . . . . . \n",
            " 1 . . . . . . . . . \n",
            " 2 . . . . . . . . . \n",
            " 3 . . . . . . . . . \n",
            " 4 . . . . . . . . . \n",
            " 5 . . . . . . . . . \n",
            " 6 . . . . . . . . . \n",
            " 7 . . . . ● ○ . . . \n",
            " 8 . . . . . . . . . \n"
          ],
          "name": "stdout"
        }
      ]
    },
    {
      "cell_type": "code",
      "metadata": {
        "id": "9yc8asOf4kPY",
        "outputId": "0e4ec63b-e066-4c9a-c5e5-c1994946fa6f"
      },
      "source": [
        "p1.theta"
      ],
      "execution_count": null,
      "outputs": [
        {
          "output_type": "execute_result",
          "data": {
            "text/plain": [
              "array([-0.83542265, -3.15222877, -3.1762802 , -3.17800188, -0.48550833,\n",
              "       -2.91121014, -3.05746383, -3.03022919, -6.35600376])"
            ]
          },
          "metadata": {
            "tags": []
          },
          "execution_count": 257
        }
      ]
    },
    {
      "cell_type": "code",
      "metadata": {
        "id": "2AEswUy24kPY",
        "outputId": "8dae8bad-f307-4db5-b6bb-826bd7e77d9a"
      },
      "source": [
        "p1.get_features(game) @ p1.theta"
      ],
      "execution_count": null,
      "outputs": [
        {
          "output_type": "execute_result",
          "data": {
            "text/plain": [
              "array([[-6.35600376, -6.35600376, -6.35600376, -6.35600376, -6.35600376,\n",
              "        -6.35600376, -6.35600376, -6.35600376, -6.35600376],\n",
              "       [-6.35600376, -6.35600376, -6.35600376, -6.35600376, -6.35600376,\n",
              "        -6.35600376, -6.35600376, -6.35600376, -6.35600376],\n",
              "       [-6.35600376, -6.35600376, -6.35600376, -6.35600376, -6.35600376,\n",
              "        -6.35600376, -6.35600376, -6.35600376, -6.35600376],\n",
              "       [-6.35600376, -6.35600376, -6.35600376, -6.35600376, -6.35600376,\n",
              "        -6.35600376, -7.1914264 , -7.1914264 , -7.1914264 ],\n",
              "       [-6.35600376, -6.35600376, -6.35600376, -6.35600376, -6.35600376,\n",
              "        -6.35600376, -7.67693473, 26.18234874, -7.67693473],\n",
              "       [-6.35600376, -6.35600376, -6.35600376, -6.35600376, -6.35600376,\n",
              "        -6.35600376, -7.67693473, 26.18234874, -7.67693473],\n",
              "       [-6.35600376, -6.35600376, -6.35600376, -6.35600376, -6.35600376,\n",
              "        -6.35600376, -6.84151208, -6.84151208, -6.84151208],\n",
              "       [-6.35600376, -6.35600376, -6.35600376, -6.35600376, -6.35600376,\n",
              "        -6.35600376, -6.35600376, -6.35600376, -6.35600376],\n",
              "       [-6.35600376, -6.35600376, -6.35600376, -6.35600376, -6.35600376,\n",
              "        -6.35600376, -6.35600376, -6.35600376, -6.35600376]])"
            ]
          },
          "metadata": {
            "tags": []
          },
          "execution_count": 260
        }
      ]
    },
    {
      "cell_type": "code",
      "metadata": {
        "id": "VLCn7ATw4kPZ",
        "outputId": "40c33d1e-718c-40f6-a238-21a0c3212d28"
      },
      "source": [
        "p1.theta"
      ],
      "execution_count": null,
      "outputs": [
        {
          "output_type": "execute_result",
          "data": {
            "text/plain": [
              "array([-0.83542265, -3.15222877, -3.1762802 , -3.17800188, -0.48550833,\n",
              "       -2.91121014, -3.05746383, -3.03022919, -6.35600376])"
            ]
          },
          "metadata": {
            "tags": []
          },
          "execution_count": 261
        }
      ]
    },
    {
      "cell_type": "code",
      "metadata": {
        "id": "KezAHdvm4kPZ"
      },
      "source": [
        ""
      ],
      "execution_count": null,
      "outputs": []
    }
  ]
}